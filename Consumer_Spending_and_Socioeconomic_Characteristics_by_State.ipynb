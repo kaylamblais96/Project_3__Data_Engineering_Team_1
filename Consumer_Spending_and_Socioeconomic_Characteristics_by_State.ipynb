{
 "cells": [
  {
   "cell_type": "code",
   "execution_count": 1,
   "id": "923f06f2-4854-4584-8d43-70efb95b39cf",
   "metadata": {},
   "outputs": [],
   "source": [
    "import great_expectations as ge\n",
    "import pandas as pd\n",
    "from pathlib import Path"
   ]
  },
  {
   "cell_type": "code",
   "execution_count": 2,
   "id": "19685699-d30d-4412-903c-8abb9b3abc8d",
   "metadata": {},
   "outputs": [],
   "source": [
    "# Define the paths to the CSV files for each state\n",
    "csv_paths = [\n",
    "    Path(\"Resources/Alabama/Consumer Spending.csv\"),\n",
    "    Path(\"Resources/Alabama/Socioeconomic Characteristics.csv\"),\n",
    "    Path(\"Resources/Arkansas/Consumer Spending.csv\"),\n",
    "    Path(\"Resources/Arkansas/Socioeconomic Characteristics.csv\"),\n",
    "    Path(\"Resources/DC/Consumer Spending.csv\"),\n",
    "    Path(\"Resources/DC/Socioeconomic Characteristics.csv\"),\n",
    "    Path(\"Resources/Louisiana/Consumer Spending.csv\"),\n",
    "    Path(\"Resources/Louisiana/Socioeconomic Characteristics.csv\"),\n",
    "    Path(\"Resources/Maryland/Consumer Spending.csv\"),\n",
    "    Path(\"Resources/Maryland/Socioeconomic Characteristics.csv\"),\n",
    "    Path(\"Resources/Massachusetts/Consumer Spending.csv\"),\n",
    "    Path(\"Resources/Massachusetts/Socioeconomic Characteristics.csv\"),\n",
    "    Path(\"Resources/Mississippi/Consumer Spending.csv\"),\n",
    "    Path(\"Resources/Mississippi/Socioeconomic Characteristics.csv\"),\n",
    "    Path(\"Resources/New Jersey/Consumer Spending.csv\"),\n",
    "    Path(\"Resources/New Jersey/Socioeconomic Characteristics.csv\"),\n",
    "    Path(\"Resources/Washington/Consumer Spending.csv\"),\n",
    "    Path(\"Resources/Washington/Socioeconomic Characteristics.csv\"),\n",
    "    Path(\"Resources/West Virginia/Consumer Spending.csv\"),\n",
    "    Path(\"Resources/West Virginia/Socioeconomic Characteristics.csv\"),]\n"
   ]
  },
  {
   "cell_type": "code",
   "execution_count": 3,
   "id": "44e23959-3f4d-408e-a61a-d5ff41904470",
   "metadata": {},
   "outputs": [],
   "source": [
    "# Initialize a Great Expectations DataContext\n",
    "context = ge.data_context.DataContext()"
   ]
  },
  {
   "cell_type": "code",
   "execution_count": 4,
   "id": "cb2beb54-9fc6-474a-b895-a2855086adaa",
   "metadata": {},
   "outputs": [],
   "source": [
    "# Create an empty list to store DataFrames\n",
    "dataframes = []"
   ]
  },
  {
   "cell_type": "code",
   "execution_count": 5,
   "id": "20030d09-eb4c-48a3-99c7-c845eec06e13",
   "metadata": {},
   "outputs": [],
   "source": [
    "# Loop through each CSV file path\n",
    "for path in csv_paths:\n",
    "    \n",
    "    # Read the CSV file\n",
    "    df = pd.read_csv(path)\n",
    "    \n",
    "    # Filter the DataFrame to keep only the relevant rows\n",
    "\n",
    "    filtered_df = df[df['Name'].isin([\n",
    "        'Median household income',\n",
    "        'Average income',\n",
    "        'Consumer expenditures per household on Dining out (Food away from home)', \n",
    "        'Consumer expenditures per household on Entertainment / Recreation',])].copy()\n",
    "    \n",
    "    # Add a \"State' column\n",
    "    filtered_df.loc[:, 'State'] = path.parts[-2]  \n",
    "    \n",
    "    # Append the filtered DataFrame to the list\n",
    "    dataframes.append(filtered_df)\n"
   ]
  },
  {
   "cell_type": "code",
   "execution_count": 6,
   "id": "c6e7ea78-7d55-494b-a59c-77fb7a74ab65",
   "metadata": {},
   "outputs": [],
   "source": [
    "# Combine all filtered DataFrames into one\n",
    "combined_df = pd.concat(dataframes, ignore_index=True)"
   ]
  },
  {
   "cell_type": "code",
   "execution_count": 7,
   "id": "084097e4-ae50-4e6a-b248-332bcca7284d",
   "metadata": {},
   "outputs": [],
   "source": [
    "# Pivot the DataFrame to change expenditures from rows to columns\n",
    "final_df = combined_df.pivot(index='State', columns='Name', values='Value')"
   ]
  },
  {
   "cell_type": "code",
   "execution_count": 8,
   "id": "4970028c-93c8-4ec6-972b-0177c1e97533",
   "metadata": {},
   "outputs": [],
   "source": [
    "# Reset the index to make 'State' a column\n",
    "final_df.reset_index(inplace=True)"
   ]
  },
  {
   "cell_type": "code",
   "execution_count": 9,
   "id": "bfdfada5-c82f-458e-a0d9-cdff67740cc2",
   "metadata": {},
   "outputs": [],
   "source": [
    "# Rename the columns \n",
    "final_df.rename(columns={\n",
    "    'Consumer expenditures per household on Dining out (Food away from home)': 'Dining Out (per household)',\n",
    "    'Consumer expenditures per household on Entertainment / Recreation' : 'Entertainment/Recreation (per household)',\n",
    "    'Median household income' : 'Median Household Income',\n",
    "    'Average income' :'Average Household Income',\n",
    "}, inplace=True)\n"
   ]
  },
  {
   "cell_type": "code",
   "execution_count": 10,
   "id": "4fdc878f-045c-4036-9e52-248f1c25d3f6",
   "metadata": {},
   "outputs": [],
   "source": [
    "# Add $ to the values in each of the columns except 'State'\n",
    "monetary_columns = ['Dining Out (per household)', 'Entertainment/Recreation (per household)', 'Median Household Income', 'Average Household Income']\n",
    "for col in monetary_columns:\n",
    "    if col in final_df.columns:\n",
    "        final_df[col] = final_df[col].apply(lambda x: f\"${float(x):,.2f}\" if pd.notnull(x) else x)"
   ]
  },
  {
   "cell_type": "code",
   "execution_count": 11,
   "id": "bdd94952-42fd-4228-a69b-1b5f1889fec9",
   "metadata": {},
   "outputs": [],
   "source": [
    "#Split the Dataframe into two Dataframes\n",
    "# Define the states for each group\n",
    "top_states = ['DC', 'Massachusetts', 'New Jersey', 'Maryland', 'Washington']\n",
    "bottom_states = ['Alabama', 'Arkansas', 'West Virginia', 'Louisiana', 'Mississippi']\n",
    "\n",
    "# Split the DataFrame into two separate DataFrames\n",
    "Top_df = final_df[final_df['State'].isin(top_states)]\n",
    "Bottom_df = final_df[final_df['State'].isin(bottom_states)]"
   ]
  },
  {
   "cell_type": "code",
   "execution_count": 12,
   "id": "453813b3-e302-4585-a2ef-9486a7d48d00",
   "metadata": {},
   "outputs": [
    {
     "data": {
      "text/html": [
       "<div>\n",
       "<style scoped>\n",
       "    .dataframe tbody tr th:only-of-type {\n",
       "        vertical-align: middle;\n",
       "    }\n",
       "\n",
       "    .dataframe tbody tr th {\n",
       "        vertical-align: top;\n",
       "    }\n",
       "\n",
       "    .dataframe thead th {\n",
       "        text-align: right;\n",
       "    }\n",
       "</style>\n",
       "<table border=\"1\" class=\"dataframe\">\n",
       "  <thead>\n",
       "    <tr style=\"text-align: right;\">\n",
       "      <th>Name</th>\n",
       "      <th>State</th>\n",
       "      <th>Average Household Income</th>\n",
       "      <th>Dining Out (per household)</th>\n",
       "      <th>Entertainment/Recreation (per household)</th>\n",
       "      <th>Median Household Income</th>\n",
       "    </tr>\n",
       "  </thead>\n",
       "  <tbody>\n",
       "    <tr>\n",
       "      <th>2</th>\n",
       "      <td>DC</td>\n",
       "      <td>$150,292.00</td>\n",
       "      <td>$5,660.82</td>\n",
       "      <td>$5,190.11</td>\n",
       "      <td>$101,722.00</td>\n",
       "    </tr>\n",
       "    <tr>\n",
       "      <th>4</th>\n",
       "      <td>Maryland</td>\n",
       "      <td>$129,642.00</td>\n",
       "      <td>$4,629.46</td>\n",
       "      <td>$4,636.97</td>\n",
       "      <td>$98,461.00</td>\n",
       "    </tr>\n",
       "    <tr>\n",
       "      <th>5</th>\n",
       "      <td>Massachusetts</td>\n",
       "      <td>$134,568.00</td>\n",
       "      <td>$4,734.14</td>\n",
       "      <td>$4,722.96</td>\n",
       "      <td>$96,505.00</td>\n",
       "    </tr>\n",
       "    <tr>\n",
       "      <th>7</th>\n",
       "      <td>New Jersey</td>\n",
       "      <td>$135,170.00</td>\n",
       "      <td>$4,723.62</td>\n",
       "      <td>$4,694.21</td>\n",
       "      <td>$97,126.00</td>\n",
       "    </tr>\n",
       "    <tr>\n",
       "      <th>8</th>\n",
       "      <td>Washington</td>\n",
       "      <td>$122,880.00</td>\n",
       "      <td>$4,470.93</td>\n",
       "      <td>$4,509.82</td>\n",
       "      <td>$90,325.00</td>\n",
       "    </tr>\n",
       "  </tbody>\n",
       "</table>\n",
       "</div>"
      ],
      "text/plain": [
       "Name          State Average Household Income Dining Out (per household)  \\\n",
       "2                DC              $150,292.00                  $5,660.82   \n",
       "4          Maryland              $129,642.00                  $4,629.46   \n",
       "5     Massachusetts              $134,568.00                  $4,734.14   \n",
       "7        New Jersey              $135,170.00                  $4,723.62   \n",
       "8        Washington              $122,880.00                  $4,470.93   \n",
       "\n",
       "Name Entertainment/Recreation (per household) Median Household Income  \n",
       "2                                   $5,190.11             $101,722.00  \n",
       "4                                   $4,636.97              $98,461.00  \n",
       "5                                   $4,722.96              $96,505.00  \n",
       "7                                   $4,694.21              $97,126.00  \n",
       "8                                   $4,509.82              $90,325.00  "
      ]
     },
     "execution_count": 12,
     "metadata": {},
     "output_type": "execute_result"
    }
   ],
   "source": [
    "Top_df"
   ]
  },
  {
   "cell_type": "code",
   "execution_count": 13,
   "id": "7ed4089f-7ac4-4a35-a3e4-90832ec88aca",
   "metadata": {},
   "outputs": [
    {
     "data": {
      "text/html": [
       "<div>\n",
       "<style scoped>\n",
       "    .dataframe tbody tr th:only-of-type {\n",
       "        vertical-align: middle;\n",
       "    }\n",
       "\n",
       "    .dataframe tbody tr th {\n",
       "        vertical-align: top;\n",
       "    }\n",
       "\n",
       "    .dataframe thead th {\n",
       "        text-align: right;\n",
       "    }\n",
       "</style>\n",
       "<table border=\"1\" class=\"dataframe\">\n",
       "  <thead>\n",
       "    <tr style=\"text-align: right;\">\n",
       "      <th>Name</th>\n",
       "      <th>State</th>\n",
       "      <th>Average Household Income</th>\n",
       "      <th>Dining Out (per household)</th>\n",
       "      <th>Entertainment/Recreation (per household)</th>\n",
       "      <th>Median Household Income</th>\n",
       "    </tr>\n",
       "  </thead>\n",
       "  <tbody>\n",
       "    <tr>\n",
       "      <th>0</th>\n",
       "      <td>Alabama</td>\n",
       "      <td>$82,992.00</td>\n",
       "      <td>$2,917.60</td>\n",
       "      <td>$3,050.64</td>\n",
       "      <td>$59,609.00</td>\n",
       "    </tr>\n",
       "    <tr>\n",
       "      <th>1</th>\n",
       "      <td>Arkansas</td>\n",
       "      <td>$79,592.00</td>\n",
       "      <td>$2,822.33</td>\n",
       "      <td>$2,973.20</td>\n",
       "      <td>$56,335.00</td>\n",
       "    </tr>\n",
       "    <tr>\n",
       "      <th>3</th>\n",
       "      <td>Louisiana</td>\n",
       "      <td>$83,169.00</td>\n",
       "      <td>$2,903.64</td>\n",
       "      <td>$2,959.73</td>\n",
       "      <td>$57,852.00</td>\n",
       "    </tr>\n",
       "    <tr>\n",
       "      <th>6</th>\n",
       "      <td>Mississippi</td>\n",
       "      <td>$74,149.00</td>\n",
       "      <td>$2,576.02</td>\n",
       "      <td>$2,678.09</td>\n",
       "      <td>$52,985.00</td>\n",
       "    </tr>\n",
       "    <tr>\n",
       "      <th>9</th>\n",
       "      <td>West Virginia</td>\n",
       "      <td>$75,575.00</td>\n",
       "      <td>$2,726.49</td>\n",
       "      <td>$2,964.69</td>\n",
       "      <td>$55,217.00</td>\n",
       "    </tr>\n",
       "  </tbody>\n",
       "</table>\n",
       "</div>"
      ],
      "text/plain": [
       "Name          State Average Household Income Dining Out (per household)  \\\n",
       "0           Alabama               $82,992.00                  $2,917.60   \n",
       "1          Arkansas               $79,592.00                  $2,822.33   \n",
       "3         Louisiana               $83,169.00                  $2,903.64   \n",
       "6       Mississippi               $74,149.00                  $2,576.02   \n",
       "9     West Virginia               $75,575.00                  $2,726.49   \n",
       "\n",
       "Name Entertainment/Recreation (per household) Median Household Income  \n",
       "0                                   $3,050.64              $59,609.00  \n",
       "1                                   $2,973.20              $56,335.00  \n",
       "3                                   $2,959.73              $57,852.00  \n",
       "6                                   $2,678.09              $52,985.00  \n",
       "9                                   $2,964.69              $55,217.00  "
      ]
     },
     "execution_count": 13,
     "metadata": {},
     "output_type": "execute_result"
    }
   ],
   "source": [
    "Bottom_df"
   ]
  },
  {
   "cell_type": "code",
   "execution_count": 14,
   "id": "ab506ee1-d8ad-45bc-99e7-fc8bf6521933",
   "metadata": {},
   "outputs": [],
   "source": [
    "# Save the two DataFrames to CSV files\n",
    "Top_df.to_csv('Top5.csv', index=False)\n",
    "Bottom_df.to_csv('Bottom5.csv', index=False)"
   ]
  }
 ],
 "metadata": {
  "kernelspec": {
   "display_name": "Python 3 (ipykernel)",
   "language": "python",
   "name": "python3"
  },
  "language_info": {
   "codemirror_mode": {
    "name": "ipython",
    "version": 3
   },
   "file_extension": ".py",
   "mimetype": "text/x-python",
   "name": "python",
   "nbconvert_exporter": "python",
   "pygments_lexer": "ipython3",
   "version": "3.11.7"
  }
 },
 "nbformat": 4,
 "nbformat_minor": 5
}
