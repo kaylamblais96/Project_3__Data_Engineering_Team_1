{
 "cells": [
  {
   "cell_type": "code",
   "execution_count": 1,
   "id": "2d94234d-61a8-443f-916b-32b73f94bae1",
   "metadata": {},
   "outputs": [],
   "source": [
    "import pandas as pd\n",
    "from pathlib import Path\n",
    "import requests\n",
    "from datetime import datetime"
   ]
  },
  {
   "cell_type": "code",
   "execution_count": 2,
   "id": "00ef9722-44d1-4851-9bd5-f06b177635b8",
   "metadata": {},
   "outputs": [],
   "source": [
    "#Store the filepath for each csv file into a variable\n",
    "\n",
    "state_path = \"/Users/savirahiman/Desktop/ClassWork/Data Engineer Project/census_data/MapData.csv\"\n",
    "population_path = \"/Users/savirahiman/Desktop/ClassWork/Data Engineer Project/census_data/SUB-IP-EST2023-POP.csv\""
   ]
  },
  {
   "cell_type": "code",
   "execution_count": 3,
   "id": "2912f4cc-e60a-4d83-b6be-b73bc52fcfd3",
   "metadata": {},
   "outputs": [],
   "source": [
    "#Read the csv files using pandas\n",
    "\n",
    "state = pd.read_csv(state_path)\n",
    "population = pd.read_csv(population_path)"
   ]
  },
  {
   "cell_type": "code",
   "execution_count": 4,
   "id": "acd2b787-3644-4735-8b1d-8475186ff337",
   "metadata": {},
   "outputs": [],
   "source": [
    "#Store each csv file in a DataFrame\n",
    "\n",
    "state_df = pd.DataFrame(state)\n",
    "pop_df = pd.DataFrame(population)"
   ]
  },
  {
   "cell_type": "code",
   "execution_count": 6,
   "id": "0321c5b1-d07e-4ba4-88e2-b2001cf1e969",
   "metadata": {},
   "outputs": [],
   "source": [
    "#Removed some of the unnecessary columns by specifying the columns to keep.\n",
    "\n",
    "state_df = state_df.loc[:, ['Geography', 'Estimate (Consumer expenditures per household on Entertainment / Recreation)', 'Estimate (Percent working age (25 to 64 years))']]\n",
    "pop_df = pop_df.loc[:, ['City', 'State', 'avg_population']]\n",
    "\n",
    "state_df.rename(columns={\n",
    "    'Geography': 'State',\n",
    "    'Estimate (Consumer expenditures per household on Entertainment / Recreation)' : 'Entertainment/Recreation (per household)',\n",
    "    'Estimate (Percent working age (25 to 64 years))' : '% of Working age(25-64)',\n",
    "    \n",
    "}, inplace=True)\n",
    "\n",
    "\n"
   ]
  },
  {
   "cell_type": "code",
   "execution_count": 7,
   "id": "1721737d-a144-4826-86bb-3950b238f49e",
   "metadata": {},
   "outputs": [
    {
     "data": {
      "text/html": [
       "<div>\n",
       "<style scoped>\n",
       "    .dataframe tbody tr th:only-of-type {\n",
       "        vertical-align: middle;\n",
       "    }\n",
       "\n",
       "    .dataframe tbody tr th {\n",
       "        vertical-align: top;\n",
       "    }\n",
       "\n",
       "    .dataframe thead th {\n",
       "        text-align: right;\n",
       "    }\n",
       "</style>\n",
       "<table border=\"1\" class=\"dataframe\">\n",
       "  <thead>\n",
       "    <tr style=\"text-align: right;\">\n",
       "      <th></th>\n",
       "      <th>State</th>\n",
       "      <th>Entertainment/Recreation (per household)</th>\n",
       "      <th>% of Working age(25-64)</th>\n",
       "    </tr>\n",
       "  </thead>\n",
       "  <tbody>\n",
       "    <tr>\n",
       "      <th>0</th>\n",
       "      <td>Alabama</td>\n",
       "      <td>3050.64</td>\n",
       "      <td>50.9</td>\n",
       "    </tr>\n",
       "    <tr>\n",
       "      <th>1</th>\n",
       "      <td>Arizona</td>\n",
       "      <td>3641.95</td>\n",
       "      <td>49.9</td>\n",
       "    </tr>\n",
       "    <tr>\n",
       "      <th>2</th>\n",
       "      <td>Arkansas</td>\n",
       "      <td>2973.20</td>\n",
       "      <td>50.1</td>\n",
       "    </tr>\n",
       "    <tr>\n",
       "      <th>3</th>\n",
       "      <td>California</td>\n",
       "      <td>4509.62</td>\n",
       "      <td>53.3</td>\n",
       "    </tr>\n",
       "    <tr>\n",
       "      <th>4</th>\n",
       "      <td>Colorado</td>\n",
       "      <td>4266.24</td>\n",
       "      <td>54.2</td>\n",
       "    </tr>\n",
       "  </tbody>\n",
       "</table>\n",
       "</div>"
      ],
      "text/plain": [
       "        State  Entertainment/Recreation (per household)  \\\n",
       "0     Alabama                                   3050.64   \n",
       "1     Arizona                                   3641.95   \n",
       "2    Arkansas                                   2973.20   \n",
       "3  California                                   4509.62   \n",
       "4    Colorado                                   4266.24   \n",
       "\n",
       "   % of Working age(25-64)  \n",
       "0                     50.9  \n",
       "1                     49.9  \n",
       "2                     50.1  \n",
       "3                     53.3  \n",
       "4                     54.2  "
      ]
     },
     "execution_count": 7,
     "metadata": {},
     "output_type": "execute_result"
    }
   ],
   "source": [
    "state_df.head()"
   ]
  },
  {
   "cell_type": "code",
   "execution_count": 8,
   "id": "e53e10c9-1b5b-445d-8936-336d24e6de51",
   "metadata": {},
   "outputs": [
    {
     "data": {
      "text/html": [
       "<div>\n",
       "<style scoped>\n",
       "    .dataframe tbody tr th:only-of-type {\n",
       "        vertical-align: middle;\n",
       "    }\n",
       "\n",
       "    .dataframe tbody tr th {\n",
       "        vertical-align: top;\n",
       "    }\n",
       "\n",
       "    .dataframe thead th {\n",
       "        text-align: right;\n",
       "    }\n",
       "</style>\n",
       "<table border=\"1\" class=\"dataframe\">\n",
       "  <thead>\n",
       "    <tr style=\"text-align: right;\">\n",
       "      <th></th>\n",
       "      <th>City</th>\n",
       "      <th>State</th>\n",
       "      <th>avg_population</th>\n",
       "    </tr>\n",
       "  </thead>\n",
       "  <tbody>\n",
       "    <tr>\n",
       "      <th>0</th>\n",
       "      <td>Abbeville city</td>\n",
       "      <td>Alabama</td>\n",
       "      <td>2,362</td>\n",
       "    </tr>\n",
       "    <tr>\n",
       "      <th>1</th>\n",
       "      <td>Adamsville city</td>\n",
       "      <td>Alabama</td>\n",
       "      <td>4,262</td>\n",
       "    </tr>\n",
       "    <tr>\n",
       "      <th>2</th>\n",
       "      <td>Addison town</td>\n",
       "      <td>Alabama</td>\n",
       "      <td>666</td>\n",
       "    </tr>\n",
       "    <tr>\n",
       "      <th>3</th>\n",
       "      <td>Akron town</td>\n",
       "      <td>Alabama</td>\n",
       "      <td>226</td>\n",
       "    </tr>\n",
       "    <tr>\n",
       "      <th>4</th>\n",
       "      <td>Alabaster city</td>\n",
       "      <td>Alabama</td>\n",
       "      <td>33,779</td>\n",
       "    </tr>\n",
       "  </tbody>\n",
       "</table>\n",
       "</div>"
      ],
      "text/plain": [
       "              City     State avg_population\n",
       "0   Abbeville city   Alabama          2,362\n",
       "1  Adamsville city   Alabama          4,262\n",
       "2     Addison town   Alabama            666\n",
       "3       Akron town   Alabama            226\n",
       "4   Alabaster city   Alabama         33,779"
      ]
     },
     "execution_count": 8,
     "metadata": {},
     "output_type": "execute_result"
    }
   ],
   "source": [
    "pop_df.head()"
   ]
  },
  {
   "cell_type": "code",
   "execution_count": 12,
   "id": "9c5695a1-6058-45a8-b168-afda9dae958d",
   "metadata": {},
   "outputs": [
    {
     "name": "stdout",
     "output_type": "stream",
     "text": [
      "                        City            State  avg_population\n",
      "65           Carrollton town          Alabama           997.0\n",
      "513              Hoonah city           Alaska           956.0\n",
      "662           Patagonia town          Arizona           795.0\n",
      "980              London city         Arkansas           995.0\n",
      "1246           Bradbury city       California           902.0\n",
      "1800             Haxtun town         Colorado           972.0\n",
      "1980      Stonington borough      Connecticut           994.0\n",
      "1997           Dagsboro town         Delaware           919.0\n",
      "2047         Anna Maria city          Florida           993.0\n",
      "2879             Sardis city          Georgia           996.0\n",
      "3062           Hagerman city            Idaho           981.0\n",
      "3586        Flanagan village         Illinois           999.0\n",
      "5008            Wanatah town          Indiana           998.0\n",
      "5879              Tabor city             Iowa           997.0\n",
      "6514              Sedan city           Kansas           999.0\n",
      "7003     Watterson Park city         Kentucky           999.0\n",
      "7079       Choudrant village        Louisiana           999.0\n",
      "7393   Chevy Chase View town         Maryland           997.0\n",
      "7947          Onsted village         Michigan           998.0\n",
      "8819            Scanlon city        Minnesota           994.0\n",
      "9043            Edwards town      Mississippi           961.0\n",
      "9749             Laurie city         Missouri           998.0\n",
      "10303            Scobey city          Montana           994.0\n",
      "10806            Tilden city         Nebraska           987.0\n",
      "10858          Caliente city           Nevada           974.0\n",
      "10900   Audubon Park borough       New Jersey           988.0\n",
      "11225         Carrizozo town       New Mexico           971.0\n",
      "11401        Castile village         New York           995.0\n",
      "12092            Gaston town   North Carolina           991.0\n",
      "12486             Beach city     North Dakota           979.0\n",
      "13260    Lowellville village             Ohio           993.0\n",
      "14128        North Enid town         Oklahoma           998.0\n",
      "14521              Scio city           Oregon           964.0\n",
      "15439    Sugar Notch borough     Pennsylvania           998.0\n",
      "15855       West Pelzer town   South Carolina           985.0\n",
      "16013           Ipswich city     South Dakota           942.0\n",
      "16209          Bradford town        Tennessee           995.0\n",
      "17610            Tenaha town            Texas           998.0\n",
      "17964       Spring City city             Utah           979.0\n",
      "18040      Woodstock village          Vermont           940.0\n",
      "18097       Craigsville town         Virginia           907.0\n",
      "18385         La Conner town       Washington           973.0\n",
      "18689    New Cumberland city    West Virginia           998.0\n",
      "18945      Elk Mound village        Wisconsin           988.0\n",
      "19450         Moorcroft town          Wyoming           973.0\n"
     ]
    }
   ],
   "source": [
    "pop_df['avg_population'] = pd.to_numeric(pop_df['avg_population'], errors='coerce')\n",
    "pop_df.dropna(subset=['avg_population'], inplace=True)\n",
    "idx = pop_df.groupby('State')['avg_population'].idxmax()\n",
    "result = pop_df.loc[idx]\n",
    "print(result)"
   ]
  },
  {
   "cell_type": "code",
   "execution_count": 11,
   "id": "52e1318d-7099-4ad0-b8b5-0caf479f5407",
   "metadata": {},
   "outputs": [
    {
     "data": {
      "text/html": [
       "<div>\n",
       "<style scoped>\n",
       "    .dataframe tbody tr th:only-of-type {\n",
       "        vertical-align: middle;\n",
       "    }\n",
       "\n",
       "    .dataframe tbody tr th {\n",
       "        vertical-align: top;\n",
       "    }\n",
       "\n",
       "    .dataframe thead th {\n",
       "        text-align: right;\n",
       "    }\n",
       "</style>\n",
       "<table border=\"1\" class=\"dataframe\">\n",
       "  <thead>\n",
       "    <tr style=\"text-align: right;\">\n",
       "      <th></th>\n",
       "      <th>City</th>\n",
       "      <th>State</th>\n",
       "      <th>avg_population</th>\n",
       "    </tr>\n",
       "  </thead>\n",
       "  <tbody>\n",
       "    <tr>\n",
       "      <th>2</th>\n",
       "      <td>Addison town</td>\n",
       "      <td>Alabama</td>\n",
       "      <td>666.0</td>\n",
       "    </tr>\n",
       "    <tr>\n",
       "      <th>3</th>\n",
       "      <td>Akron town</td>\n",
       "      <td>Alabama</td>\n",
       "      <td>226.0</td>\n",
       "    </tr>\n",
       "    <tr>\n",
       "      <th>8</th>\n",
       "      <td>Allgood town</td>\n",
       "      <td>Alabama</td>\n",
       "      <td>547.0</td>\n",
       "    </tr>\n",
       "    <tr>\n",
       "      <th>9</th>\n",
       "      <td>Altoona town</td>\n",
       "      <td>Alabama</td>\n",
       "      <td>950.0</td>\n",
       "    </tr>\n",
       "    <tr>\n",
       "      <th>11</th>\n",
       "      <td>Anderson town</td>\n",
       "      <td>Alabama</td>\n",
       "      <td>254.0</td>\n",
       "    </tr>\n",
       "  </tbody>\n",
       "</table>\n",
       "</div>"
      ],
      "text/plain": [
       "             City     State  avg_population\n",
       "2    Addison town   Alabama           666.0\n",
       "3      Akron town   Alabama           226.0\n",
       "8    Allgood town   Alabama           547.0\n",
       "9    Altoona town   Alabama           950.0\n",
       "11  Anderson town   Alabama           254.0"
      ]
     },
     "execution_count": 11,
     "metadata": {},
     "output_type": "execute_result"
    }
   ],
   "source": [
    "pop_df.head()\n"
   ]
  },
  {
   "cell_type": "code",
   "execution_count": null,
   "id": "1cb8b210-1b1d-41ed-aa56-05e81c3d4a6d",
   "metadata": {},
   "outputs": [],
   "source": []
  }
 ],
 "metadata": {
  "kernelspec": {
   "display_name": "Python 3 (ipykernel)",
   "language": "python",
   "name": "python3"
  },
  "language_info": {
   "codemirror_mode": {
    "name": "ipython",
    "version": 3
   },
   "file_extension": ".py",
   "mimetype": "text/x-python",
   "name": "python",
   "nbconvert_exporter": "python",
   "pygments_lexer": "ipython3",
   "version": "3.10.14"
  }
 },
 "nbformat": 4,
 "nbformat_minor": 5
}
