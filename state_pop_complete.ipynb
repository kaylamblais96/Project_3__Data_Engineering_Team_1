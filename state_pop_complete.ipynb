{
 "cells": [
  {
   "cell_type": "code",
   "execution_count": 2,
   "id": "2d94234d-61a8-443f-916b-32b73f94bae1",
   "metadata": {},
   "outputs": [],
   "source": [
    "import pandas as pd\n",
    "from pathlib import Path\n",
    "import requests\n",
    "from datetime import datetime"
   ]
  },
  {
   "cell_type": "code",
   "execution_count": 3,
   "id": "00ef9722-44d1-4851-9bd5-f06b177635b8",
   "metadata": {},
   "outputs": [],
   "source": [
    "#Store the filepath for each csv file into a variable\n",
    "\n",
    "state_path = \"MapData.csv\"\n",
    "population_path = \"SUB-IP-EST2023-POP.csv\""
   ]
  },
  {
   "cell_type": "code",
   "execution_count": 4,
   "id": "2912f4cc-e60a-4d83-b6be-b73bc52fcfd3",
   "metadata": {},
   "outputs": [],
   "source": [
    "#Read the csv files using pandas\n",
    "\n",
    "state = pd.read_csv(state_path)\n",
    "population = pd.read_csv(population_path)"
   ]
  },
  {
   "cell_type": "code",
   "execution_count": 5,
   "id": "acd2b787-3644-4735-8b1d-8475186ff337",
   "metadata": {},
   "outputs": [],
   "source": [
    "#Store each csv file in a DataFrame\n",
    "\n",
    "state_df = pd.DataFrame(state)\n",
    "pop_df = pd.DataFrame(population)"
   ]
  },
  {
   "cell_type": "code",
   "execution_count": 6,
   "id": "0321c5b1-d07e-4ba4-88e2-b2001cf1e969",
   "metadata": {},
   "outputs": [],
   "source": [
    "#Removed some of the unnecessary columns by specifying the columns to keep.\n",
    "\n",
    "state_df = state_df.loc[:, ['Geography', 'Estimate (Consumer expenditures per household on Entertainment / Recreation)', 'Estimate (Percent working age (25 to 64 years))']]\n",
    "pop_df = pop_df.loc[:, ['City', 'State', 'avg_population']]\n",
    "\n",
    "state_df.rename(columns={\n",
    "    'Geography': 'State',\n",
    "    'Estimate (Consumer expenditures per household on Entertainment / Recreation)' : 'Entertainment/Recreation (per household)',\n",
    "    'Estimate (Percent working age (25 to 64 years))' : '% of Working age(25-64)',\n",
    "    \n",
    "}, inplace=True)\n",
    "\n",
    "\n"
   ]
  },
  {
   "cell_type": "code",
   "execution_count": 7,
   "id": "6eaf2807-9fab-47d8-8ced-edc4a67a73e1",
   "metadata": {},
   "outputs": [
    {
     "data": {
      "text/html": [
       "<div>\n",
       "<style scoped>\n",
       "    .dataframe tbody tr th:only-of-type {\n",
       "        vertical-align: middle;\n",
       "    }\n",
       "\n",
       "    .dataframe tbody tr th {\n",
       "        vertical-align: top;\n",
       "    }\n",
       "\n",
       "    .dataframe thead th {\n",
       "        text-align: right;\n",
       "    }\n",
       "</style>\n",
       "<table border=\"1\" class=\"dataframe\">\n",
       "  <thead>\n",
       "    <tr style=\"text-align: right;\">\n",
       "      <th></th>\n",
       "      <th>State</th>\n",
       "      <th>Entertainment/Recreation (per household)</th>\n",
       "      <th>% of Working age(25-64)</th>\n",
       "    </tr>\n",
       "  </thead>\n",
       "  <tbody>\n",
       "    <tr>\n",
       "      <th>0</th>\n",
       "      <td>Alabama</td>\n",
       "      <td>3050.64</td>\n",
       "      <td>50.9</td>\n",
       "    </tr>\n",
       "    <tr>\n",
       "      <th>1</th>\n",
       "      <td>Arizona</td>\n",
       "      <td>3641.95</td>\n",
       "      <td>49.9</td>\n",
       "    </tr>\n",
       "    <tr>\n",
       "      <th>2</th>\n",
       "      <td>Arkansas</td>\n",
       "      <td>2973.20</td>\n",
       "      <td>50.1</td>\n",
       "    </tr>\n",
       "    <tr>\n",
       "      <th>3</th>\n",
       "      <td>California</td>\n",
       "      <td>4509.62</td>\n",
       "      <td>53.3</td>\n",
       "    </tr>\n",
       "    <tr>\n",
       "      <th>4</th>\n",
       "      <td>Colorado</td>\n",
       "      <td>4266.24</td>\n",
       "      <td>54.2</td>\n",
       "    </tr>\n",
       "  </tbody>\n",
       "</table>\n",
       "</div>"
      ],
      "text/plain": [
       "        State  Entertainment/Recreation (per household)  \\\n",
       "0     Alabama                                   3050.64   \n",
       "1     Arizona                                   3641.95   \n",
       "2    Arkansas                                   2973.20   \n",
       "3  California                                   4509.62   \n",
       "4    Colorado                                   4266.24   \n",
       "\n",
       "   % of Working age(25-64)  \n",
       "0                     50.9  \n",
       "1                     49.9  \n",
       "2                     50.1  \n",
       "3                     53.3  \n",
       "4                     54.2  "
      ]
     },
     "execution_count": 7,
     "metadata": {},
     "output_type": "execute_result"
    }
   ],
   "source": [
    "state_df.head()"
   ]
  },
  {
   "cell_type": "code",
   "execution_count": 8,
   "id": "e53e10c9-1b5b-445d-8936-336d24e6de51",
   "metadata": {},
   "outputs": [
    {
     "data": {
      "text/html": [
       "<div>\n",
       "<style scoped>\n",
       "    .dataframe tbody tr th:only-of-type {\n",
       "        vertical-align: middle;\n",
       "    }\n",
       "\n",
       "    .dataframe tbody tr th {\n",
       "        vertical-align: top;\n",
       "    }\n",
       "\n",
       "    .dataframe thead th {\n",
       "        text-align: right;\n",
       "    }\n",
       "</style>\n",
       "<table border=\"1\" class=\"dataframe\">\n",
       "  <thead>\n",
       "    <tr style=\"text-align: right;\">\n",
       "      <th></th>\n",
       "      <th>City</th>\n",
       "      <th>State</th>\n",
       "      <th>avg_population</th>\n",
       "    </tr>\n",
       "  </thead>\n",
       "  <tbody>\n",
       "    <tr>\n",
       "      <th>0</th>\n",
       "      <td>Abbeville city</td>\n",
       "      <td>Alabama</td>\n",
       "      <td>2,362</td>\n",
       "    </tr>\n",
       "    <tr>\n",
       "      <th>1</th>\n",
       "      <td>Adamsville city</td>\n",
       "      <td>Alabama</td>\n",
       "      <td>4,262</td>\n",
       "    </tr>\n",
       "    <tr>\n",
       "      <th>2</th>\n",
       "      <td>Addison town</td>\n",
       "      <td>Alabama</td>\n",
       "      <td>666</td>\n",
       "    </tr>\n",
       "    <tr>\n",
       "      <th>3</th>\n",
       "      <td>Akron town</td>\n",
       "      <td>Alabama</td>\n",
       "      <td>226</td>\n",
       "    </tr>\n",
       "    <tr>\n",
       "      <th>4</th>\n",
       "      <td>Alabaster city</td>\n",
       "      <td>Alabama</td>\n",
       "      <td>33,779</td>\n",
       "    </tr>\n",
       "  </tbody>\n",
       "</table>\n",
       "</div>"
      ],
      "text/plain": [
       "              City     State avg_population\n",
       "0   Abbeville city   Alabama          2,362\n",
       "1  Adamsville city   Alabama          4,262\n",
       "2     Addison town   Alabama            666\n",
       "3       Akron town   Alabama            226\n",
       "4   Alabaster city   Alabama         33,779"
      ]
     },
     "execution_count": 8,
     "metadata": {},
     "output_type": "execute_result"
    }
   ],
   "source": [
    "pop_df.head()"
   ]
  },
  {
   "cell_type": "code",
   "execution_count": null,
   "id": "112b5ea8-14f9-4d94-a91d-eb0b39fc1a10",
   "metadata": {},
   "outputs": [],
   "source": []
  },
  {
   "cell_type": "code",
   "execution_count": 9,
   "id": "8ac5b184-4b5a-45eb-8df8-efc73c93cd90",
   "metadata": {},
   "outputs": [],
   "source": [
    "#The data in the avg_population column was listed as a string. We had to clean the data by changing the data type before being able to sort.\n",
    "\n",
    "pop_df['avg_population'] = pop_df['avg_population'].str.replace(',', '').astype(float)"
   ]
  },
  {
   "cell_type": "code",
   "execution_count": 10,
   "id": "4989b1b2-f4ae-45bb-99e3-2166504e40e4",
   "metadata": {},
   "outputs": [
    {
     "data": {
      "text/plain": [
       "array([' Alabama', ' Alaska', ' Arizona', ' Arkansas', ' California',\n",
       "       ' Colorado', ' Connecticut', ' Delaware', ' District of Columbia',\n",
       "       ' Florida', ' Village of Islands village', ' Georgia', ' Hawaii',\n",
       "       ' Idaho', ' Illinois', ' Indiana', ' Iowa', ' Kansas', ' Kentucky',\n",
       "       ' Louisiana', ' Maine', ' Maryland', ' Massachusetts', ' Michigan',\n",
       "       ' Minnesota', ' Mississippi', ' Missouri', ' Montana', ' Nebraska',\n",
       "       ' Nevada', ' New Hampshire', ' New Jersey', ' New Mexico',\n",
       "       ' New York', ' North Carolina', ' North Dakota', ' Ohio',\n",
       "       ' Oklahoma', ' Oregon', ' Pennsylvania', ' Rhode Island',\n",
       "       ' South Carolina', ' South Dakota', ' Tennessee',\n",
       "       ' Moore County metropolitan government', ' Texas', ' Utah',\n",
       "       ' Vermont', ' Virginia', ' Washington', ' West Virginia',\n",
       "       ' Wisconsin', ' Wyoming'], dtype=object)"
      ]
     },
     "execution_count": 10,
     "metadata": {},
     "output_type": "execute_result"
    }
   ],
   "source": [
    "#This is where we found that there was a blank space before each state name in the pop_df\n",
    "unique_states = pop_df['State'].unique()\n",
    "unique_states"
   ]
  },
  {
   "cell_type": "code",
   "execution_count": 11,
   "id": "b3b40ca3-50fa-428a-b783-977b45c4bcf7",
   "metadata": {},
   "outputs": [
    {
     "data": {
      "text/plain": [
       "array(['Alabama', 'Alaska', 'Arizona', 'Arkansas', 'California',\n",
       "       'Colorado', 'Connecticut', 'Delaware', 'District of Columbia',\n",
       "       'Florida', 'Village of Islands village', 'Georgia', 'Hawaii',\n",
       "       'Idaho', 'Illinois', 'Indiana', 'Iowa', 'Kansas', 'Kentucky',\n",
       "       'Louisiana', 'Maine', 'Maryland', 'Massachusetts', 'Michigan',\n",
       "       'Minnesota', 'Mississippi', 'Missouri', 'Montana', 'Nebraska',\n",
       "       'Nevada', 'New Hampshire', 'New Jersey', 'New Mexico', 'New York',\n",
       "       'North Carolina', 'North Dakota', 'Ohio', 'Oklahoma', 'Oregon',\n",
       "       'Pennsylvania', 'Rhode Island', 'South Carolina', 'South Dakota',\n",
       "       'Tennessee', 'Moore County metropolitan government', 'Texas',\n",
       "       'Utah', 'Vermont', 'Virginia', 'Washington', 'West Virginia',\n",
       "       'Wisconsin', 'Wyoming'], dtype=object)"
      ]
     },
     "execution_count": 11,
     "metadata": {},
     "output_type": "execute_result"
    }
   ],
   "source": [
    "#Cleaned the States column in the pop_df using the .str.strip() method\n",
    "\n",
    "pop_df['State'] = pop_df['State'].str.strip()\n",
    "unique_states_cleaned = pop_df['State'].unique()\n",
    "unique_states_cleaned"
   ]
  },
  {
   "cell_type": "code",
   "execution_count": 12,
   "id": "168762d9-1001-45f9-8fa8-f85f1db7360f",
   "metadata": {},
   "outputs": [
    {
     "data": {
      "text/html": [
       "<div>\n",
       "<style scoped>\n",
       "    .dataframe tbody tr th:only-of-type {\n",
       "        vertical-align: middle;\n",
       "    }\n",
       "\n",
       "    .dataframe tbody tr th {\n",
       "        vertical-align: top;\n",
       "    }\n",
       "\n",
       "    .dataframe thead th {\n",
       "        text-align: right;\n",
       "    }\n",
       "</style>\n",
       "<table border=\"1\" class=\"dataframe\">\n",
       "  <thead>\n",
       "    <tr style=\"text-align: right;\">\n",
       "      <th></th>\n",
       "      <th>City</th>\n",
       "      <th>State</th>\n",
       "      <th>avg_population</th>\n",
       "    </tr>\n",
       "  </thead>\n",
       "  <tbody>\n",
       "    <tr>\n",
       "      <th>215</th>\n",
       "      <td>Huntsville city</td>\n",
       "      <td>Alabama</td>\n",
       "      <td>220695.0</td>\n",
       "    </tr>\n",
       "    <tr>\n",
       "      <th>42</th>\n",
       "      <td>Birmingham city</td>\n",
       "      <td>Alabama</td>\n",
       "      <td>197945.0</td>\n",
       "    </tr>\n",
       "    <tr>\n",
       "      <th>282</th>\n",
       "      <td>Montgomery city</td>\n",
       "      <td>Alabama</td>\n",
       "      <td>197683.0</td>\n",
       "    </tr>\n",
       "    <tr>\n",
       "      <th>279</th>\n",
       "      <td>Mobile city</td>\n",
       "      <td>Alabama</td>\n",
       "      <td>184421.0</td>\n",
       "    </tr>\n",
       "    <tr>\n",
       "      <th>422</th>\n",
       "      <td>Tuscaloosa city</td>\n",
       "      <td>Alabama</td>\n",
       "      <td>108802.0</td>\n",
       "    </tr>\n",
       "  </tbody>\n",
       "</table>\n",
       "</div>"
      ],
      "text/plain": [
       "                City    State  avg_population\n",
       "215  Huntsville city  Alabama        220695.0\n",
       "42   Birmingham city  Alabama        197945.0\n",
       "282  Montgomery city  Alabama        197683.0\n",
       "279      Mobile city  Alabama        184421.0\n",
       "422  Tuscaloosa city  Alabama        108802.0"
      ]
     },
     "execution_count": 12,
     "metadata": {},
     "output_type": "execute_result"
    }
   ],
   "source": [
    "#Finding the data for one specific state to verify.\n",
    "alabama_cities = pop_df[pop_df['State'] == 'Alabama']\n",
    "alabama_cities_sorted = alabama_cities.sort_values(by='avg_population', ascending=False)\n",
    "alabama_cities_sorted.head()\n",
    "\n"
   ]
  },
  {
   "cell_type": "code",
   "execution_count": 13,
   "id": "316e3923-83c2-4c0d-8819-822bd9cd26d1",
   "metadata": {},
   "outputs": [
    {
     "name": "stdout",
     "output_type": "stream",
     "text": [
      "The city in Alabama with the highest population is: Huntsville city\n"
     ]
    }
   ],
   "source": [
    "first_city_name = alabama_cities_sorted.iloc[0]['City']\n",
    "print(\"The city in Alabama with the highest population is:\", first_city_name)"
   ]
  },
  {
   "cell_type": "code",
   "execution_count": 14,
   "id": "1cb8b210-1b1d-41ed-aa56-05e81c3d4a6d",
   "metadata": {},
   "outputs": [
    {
     "data": {
      "text/html": [
       "<div>\n",
       "<style scoped>\n",
       "    .dataframe tbody tr th:only-of-type {\n",
       "        vertical-align: middle;\n",
       "    }\n",
       "\n",
       "    .dataframe tbody tr th {\n",
       "        vertical-align: top;\n",
       "    }\n",
       "\n",
       "    .dataframe thead th {\n",
       "        text-align: right;\n",
       "    }\n",
       "</style>\n",
       "<table border=\"1\" class=\"dataframe\">\n",
       "  <thead>\n",
       "    <tr style=\"text-align: right;\">\n",
       "      <th></th>\n",
       "      <th>City</th>\n",
       "      <th>State</th>\n",
       "      <th>avg_population</th>\n",
       "    </tr>\n",
       "  </thead>\n",
       "  <tbody>\n",
       "    <tr>\n",
       "      <th>215</th>\n",
       "      <td>Huntsville city</td>\n",
       "      <td>Alabama</td>\n",
       "      <td>220695.0</td>\n",
       "    </tr>\n",
       "    <tr>\n",
       "      <th>471</th>\n",
       "      <td>Anchorage municipality</td>\n",
       "      <td>Alaska</td>\n",
       "      <td>288280.0</td>\n",
       "    </tr>\n",
       "    <tr>\n",
       "      <th>665</th>\n",
       "      <td>Phoenix city</td>\n",
       "      <td>Arizona</td>\n",
       "      <td>1632904.0</td>\n",
       "    </tr>\n",
       "    <tr>\n",
       "      <th>978</th>\n",
       "      <td>Little Rock city</td>\n",
       "      <td>Arkansas</td>\n",
       "      <td>202970.0</td>\n",
       "    </tr>\n",
       "    <tr>\n",
       "      <th>1442</th>\n",
       "      <td>Los Angeles city</td>\n",
       "      <td>California</td>\n",
       "      <td>3843029.0</td>\n",
       "    </tr>\n",
       "  </tbody>\n",
       "</table>\n",
       "</div>"
      ],
      "text/plain": [
       "                        City       State  avg_population\n",
       "215          Huntsville city     Alabama        220695.0\n",
       "471   Anchorage municipality      Alaska        288280.0\n",
       "665             Phoenix city     Arizona       1632904.0\n",
       "978         Little Rock city    Arkansas        202970.0\n",
       "1442        Los Angeles city  California       3843029.0"
      ]
     },
     "execution_count": 14,
     "metadata": {},
     "output_type": "execute_result"
    }
   ],
   "source": [
    "#Grouped the data by the states column and finds the index of the row with the maximum average population value for each group.\n",
    "\n",
    "max_population_cities = pop_df.loc[pop_df.groupby('State')['avg_population'].idxmax()]\n",
    "max_population_cities.head()"
   ]
  },
  {
   "cell_type": "code",
   "execution_count": 15,
   "id": "e5367331-283b-4e99-ae7a-8c9ab880df7f",
   "metadata": {},
   "outputs": [],
   "source": [
    "max_population_cities.to_csv('max_population_cities.csv', index=False)"
   ]
  },
  {
   "cell_type": "code",
   "execution_count": null,
   "id": "fcba473a-dfd8-45eb-851c-0dd13a6bf9bb",
   "metadata": {},
   "outputs": [],
   "source": []
  }
 ],
 "metadata": {
  "kernelspec": {
   "display_name": "Python 3 (ipykernel)",
   "language": "python",
   "name": "python3"
  },
  "language_info": {
   "codemirror_mode": {
    "name": "ipython",
    "version": 3
   },
   "file_extension": ".py",
   "mimetype": "text/x-python",
   "name": "python",
   "nbconvert_exporter": "python",
   "pygments_lexer": "ipython3",
   "version": "3.10.14"
  }
 },
 "nbformat": 4,
 "nbformat_minor": 5
}
